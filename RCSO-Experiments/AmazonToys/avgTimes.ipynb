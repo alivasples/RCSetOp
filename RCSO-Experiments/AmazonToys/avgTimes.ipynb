{
 "cells": [
  {
   "cell_type": "code",
   "execution_count": 1,
   "metadata": {},
   "outputs": [],
   "source": [
    "import matplotlib.pyplot as plt\n",
    "import statistics"
   ]
  },
  {
   "cell_type": "code",
   "execution_count": 2,
   "metadata": {},
   "outputs": [],
   "source": [
    "def castFloat(str):\n",
    "    return float(str.replace(',','.'))"
   ]
  },
  {
   "cell_type": "code",
   "execution_count": 3,
   "metadata": {},
   "outputs": [],
   "source": [
    "# Read a file and push the elements into a list\n",
    "def fileToList(fileName, ini=0, end=-1):\n",
    "    list = []\n",
    "    try:\n",
    "        file = open(fileName)\n",
    "        iLine = 0\n",
    "        for line in file:\n",
    "            if end == -1 or (iLine >= ini and iLine <= end):\n",
    "                list.append(castFloat(line))\n",
    "            iLine += 1\n",
    "        file.close()\n",
    "    except IOError:\n",
    "        print(fileName + ' could not be opened!')\n",
    "    return list"
   ]
  },
  {
   "cell_type": "code",
   "execution_count": 4,
   "metadata": {},
   "outputs": [],
   "source": [
    "# Compute the average of a list elements\n",
    "def average(list):\n",
    "    list.sort()\n",
    "    # Remove all missing values\n",
    "    while 0 in list:\n",
    "        list.remove(0)\n",
    "    # Validation of list size\n",
    "    if len(list) == 0: return 0\n",
    "    if len(list) > 2:\n",
    "        del list[0]\n",
    "        del list[len(list)-1]\n",
    "    # computing the average\n",
    "#     sum = 0\n",
    "#     for number in list:\n",
    "#         sum += number\n",
    "#     return sum/len(list)\n",
    "    return statistics.mean(list)"
   ]
  },
  {
   "cell_type": "code",
   "execution_count": 5,
   "metadata": {},
   "outputs": [],
   "source": [
    "# Compute the standard deviation of a list elements\n",
    "def stdev(list):\n",
    "    list.sort()\n",
    "    # Remove all missing values\n",
    "    while 0 in list:\n",
    "        list.remove(0)\n",
    "    # Validation of list size\n",
    "    if len(list) == 0: return 0\n",
    "    if len(list) > 2:\n",
    "        del list[0]\n",
    "        del list[len(list)-1]\n",
    "    # computing the average\n",
    "    return statistics.stdev(list)"
   ]
  },
  {
   "cell_type": "code",
   "execution_count": 6,
   "metadata": {},
   "outputs": [],
   "source": [
    "# Compute the mean of a list elements\n",
    "def mean(list):\n",
    "    list.sort()\n",
    "    # Remove all missing values\n",
    "    while 0 in list:\n",
    "        list.remove(0)\n",
    "    # Validation of list size\n",
    "    if len(list) == 0: return 0\n",
    "    if len(list) > 2:\n",
    "        del list[0]\n",
    "        del list[len(list)-1]\n",
    "    # computing the mean\n",
    "    sum = 0\n",
    "    for number in list:\n",
    "        sum += 1/number\n",
    "#     return list[0]\n",
    "#     return list[len(list)-1]\n",
    "#     return (list[0] + list[len(list)-1]) / 2\n",
    "    return len(list)/sum"
   ]
  },
  {
   "cell_type": "code",
   "execution_count": 7,
   "metadata": {},
   "outputs": [],
   "source": [
    "# Process a set of files\n",
    "def processTest(testFiles):\n",
    "    data = []\n",
    "    statistics = []\n",
    "    for testFile in testFiles:\n",
    "        data.append(fileToList(testFile))\n",
    "    for j in range(len(data[0])):\n",
    "        tuple = []\n",
    "        for i in range(len(data)):\n",
    "            tuple.append(data[i][j])\n",
    "        statistics.append(average(tuple))\n",
    "    return statistics"
   ]
  },
  {
   "cell_type": "code",
   "execution_count": 8,
   "metadata": {},
   "outputs": [],
   "source": [
    "# Group elements in list\n",
    "def toBuckets(data, bucketSize):\n",
    "    i = 0\n",
    "    sum = 0\n",
    "    bucketList = []\n",
    "    for element in data:\n",
    "        sum += element\n",
    "        i+=1\n",
    "        if i == bucketSize:\n",
    "            bucketList.append(sum/i)\n",
    "            i = 0\n",
    "            sum = 0\n",
    "    return bucketList"
   ]
  },
  {
   "cell_type": "code",
   "execution_count": 9,
   "metadata": {},
   "outputs": [],
   "source": [
    "# Print elements of list\n",
    "def printList(data):\n",
    "    for element in data:\n",
    "        print(str(element).replace('.',','))"
   ]
  },
  {
   "cell_type": "code",
   "execution_count": 10,
   "metadata": {},
   "outputs": [],
   "source": [
    "# This method summarizes the 10 execution of a test\n",
    "def processTest(startTest, endTest, variation, typeAlg, ini=0, end=-1):\n",
    "    completeData = []\n",
    "    # Store the averages of the cases\n",
    "    for currentTest in range(startTest, endTest):\n",
    "        path = 'TESTS/TEST %d/%s/%s.time'%(currentTest, variation, typeAlg)\n",
    "        pathResult = 'TESTS/TEST %d/%s/%s.result'%(currentTest, variation, typeAlg)\n",
    "        avg = average(fileToList(path, ini, end))\n",
    "        currStdev = stdev(fileToList(path, ini, end)) # only usefull when endTest-startTest = 1\n",
    "#         validG = average(fileToList(pathResult))\n",
    "        # Add avg to array\n",
    "        completeData.append(avg)\n",
    "    # Computing the statistics for every case\n",
    "    # In case there is only one test case, return the avg and stdev for that case\n",
    "    if endTest - startTest == 1: return avg, currStdev\n",
    "    # In case there are at least two test cases, return the avg of all of themn, and the stdev of all\n",
    "    return average(completeData), stdev(completeData)\n",
    "    \n",
    "startTest = 1\n",
    "endTest = 100\n",
    "# processTest(startTest,endTest,'VarDividend','fts_all', 10)"
   ]
  },
  {
   "cell_type": "code",
   "execution_count": 11,
   "metadata": {},
   "outputs": [],
   "source": [
    "bucketSize = 1"
   ]
  },
  {
   "cell_type": "code",
   "execution_count": 12,
   "metadata": {},
   "outputs": [
    {
     "name": "stdout",
     "output_type": "stream",
     "text": [
      "Q1 (FTS)  : (0.3014694974226804, 0.1103058435370008)\n",
      "Q1 (Index): (0.19253896907216494, 0.08773505674698387)\n",
      "\n",
      "Q2 (FTS)  : (0.36433826030927835, 0.13527735851085484)\n",
      "Q2 (Index): (0.2564622886597938, 0.12139931999509289)\n",
      "\n",
      "Q3 (FTS)  : (0.36514434407216495, 0.13592211976685883)\n",
      "Q3 (Index): (0.25567411726804123, 0.12138567958295454)\n"
     ]
    }
   ],
   "source": [
    "# GENERAL 100 TEST CASES\n",
    "result = processTest(startTest,endTest,'.','fts_all', 0, 9)\n",
    "print('Q1 (FTS)  :', result)\n",
    "result = processTest(startTest,endTest,'.','index_all', 0, 9)\n",
    "print('Q1 (Index):', result)\n",
    "print()\n",
    "\n",
    "result = processTest(startTest,endTest,'.','fts_all', 10, 19)\n",
    "print('Q2 (FTS)  :', result)\n",
    "result = processTest(startTest,endTest,'.','index_all', 10, 19)\n",
    "print('Q2 (Index):', result)\n",
    "print()\n",
    "\n",
    "result = processTest(startTest,endTest,'.','fts_any')\n",
    "print('Q3 (FTS)  :', result)\n",
    "result = processTest(startTest,endTest,'.','index_any')\n",
    "print('Q3 (Index):', result)"
   ]
  },
  {
   "cell_type": "code",
   "execution_count": 13,
   "metadata": {},
   "outputs": [
    {
     "name": "stdout",
     "output_type": "stream",
     "text": [
      "Q1 (FTS)  : (0.141995875, 0.001868899709722275)\n",
      "Q1 (Index): (0.025080625, 0.0010319325749707268)\n",
      "\n",
      "Q2 (FTS)  : (0.192907, 0.0059886704224369714)\n",
      "Q2 (Index): (0.042347875, 0.0008704090068960197)\n",
      "\n",
      "Q3 (FTS)  : (0.19099975, 0.001208791102122873)\n",
      "Q3 (Index): (0.0417875, 0.0006751203067390494)\n"
     ]
    }
   ],
   "source": [
    "# ONLY 1st TEST CASES\n",
    "result = processTest(1, 2,'.','fts_all', 0, 9)\n",
    "print('Q1 (FTS)  :', result)\n",
    "result = processTest(1, 2,'.','index_all', 0, 9)\n",
    "print('Q1 (Index):', result)\n",
    "print()\n",
    "\n",
    "result = processTest(1,2,'.','fts_all', 10, 19)\n",
    "print('Q2 (FTS)  :', result)\n",
    "result = processTest(1,2,'.','index_all', 10, 19)\n",
    "print('Q2 (Index):', result)\n",
    "print()\n",
    "\n",
    "result = processTest(1,2,'.','fts_any')\n",
    "print('Q3 (FTS)  :', result)\n",
    "result = processTest(1,2,'.','index_any')\n",
    "print('Q3 (Index):', result)"
   ]
  }
 ],
 "metadata": {
  "kernelspec": {
   "display_name": "Python 3",
   "language": "python",
   "name": "python3"
  },
  "language_info": {
   "codemirror_mode": {
    "name": "ipython",
    "version": 3
   },
   "file_extension": ".py",
   "mimetype": "text/x-python",
   "name": "python",
   "nbconvert_exporter": "python",
   "pygments_lexer": "ipython3",
   "version": "3.7.7"
  }
 },
 "nbformat": 4,
 "nbformat_minor": 4
}
